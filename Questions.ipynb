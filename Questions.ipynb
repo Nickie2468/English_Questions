{
  "nbformat": 4,
  "nbformat_minor": 0,
  "metadata": {
    "colab": {
      "provenance": []
    },
    "kernelspec": {
      "name": "python3",
      "display_name": "Python 3"
    },
    "language_info": {
      "name": "python"
    }
  },
  "cells": [
    {
      "cell_type": "code",
      "source": [
        "def main():\n",
        "    questions = [\n",
        "        {\n",
        "            \"questions\": \"The company's new policy aims to _______ workplace efficiency.\",\n",
        "            \"choices\": [\n",
        "                \"A.  hinder\",\n",
        "                \"B.  facilitate\",\n",
        "                \"C.  obscure\",\n",
        "                \"D.  exacerbate\"\n",
        "\n",
        "            ],\n",
        "            \"answer\": \"B\"\n",
        "        },\n",
        "\n",
        "        {\n",
        "            \"questions\": \"The _______ in the market has led to increased consumer confidence.\",\n",
        "            \"choices\": [\n",
        "                \"A. recession\",\n",
        "                \"B. volatility\",\n",
        "                \"C. stability\",\n",
        "                \"D. downturn\"\n",
        "            ],\n",
        "            \"answer\": \"C\"\n",
        "        },\n",
        "    ]\n",
        "\n",
        "\n",
        "\n",
        "    score = 0\n",
        "    for q in questions:\n",
        "        print(q[\"questions\"])\n",
        "        for choice in q[\"choices\"]:\n",
        "            print(choice)\n",
        "        user_answer = input(\"あなたの答えを選んでください（A、B、C、またはD）: \").upper()\n",
        "        if user_answer == q[\"answer\"]:\n",
        "           print(\"正解です！\")\n",
        "           score += 1\n",
        "        else:\n",
        "            print(f\"残念、不正解です。正解は {q['answer']} です。\")\n",
        "\n",
        "        print(\"\\n\")\n",
        "\n",
        "    print(f\"クイズ終了！あなたのスコアは {score}/{len(questions)} です。\")\n",
        "\n",
        "\n",
        "if __name__ == \"__main__\":\n",
        "    main()\n",
        "\n"
      ],
      "metadata": {
        "colab": {
          "base_uri": "https://localhost:8080/"
        },
        "id": "3ikPAUO7Be4W",
        "outputId": "8c4afc33-6f26-4aa3-93af-996210621d65"
      },
      "execution_count": null,
      "outputs": [
        {
          "output_type": "stream",
          "name": "stdout",
          "text": [
            "The company's new policy aims to _______ workplace efficiency.\n",
            "A.  hinder\n",
            "B.  facilitate\n",
            "C.  obscure\n",
            "D.  exacerbate\n"
          ]
        }
      ]
    },
    {
      "cell_type": "code",
      "source": [],
      "metadata": {
        "id": "EBQ2nNUyE-mJ"
      },
      "execution_count": null,
      "outputs": []
    }
  ]
}